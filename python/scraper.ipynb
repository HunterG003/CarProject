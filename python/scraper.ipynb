{
 "cells": [
  {
   "cell_type": "code",
   "execution_count": null,
   "metadata": {},
   "outputs": [],
   "source": [
    "from bs4 import BeautifulSoup as soup\n",
    "from splinter import Browser\n",
    "from pprint import pprint\n",
    "import time"
   ]
  },
  {
   "cell_type": "code",
   "execution_count": null,
   "metadata": {},
   "outputs": [],
   "source": [
    "browser=Browser('chrome')\n",
    "\n",
    "# Visit the URL\n",
    "url = \"https://www.ebay.com/b/Cars-Trucks/6001?mag=1&_fsrp=0&rt=nc&_sacat=6001&Model%2520Year=2010%7C2011%7C2012%7C2013%7C2014%7C2015%7C2016%7C2017%7C2018%7C2019%7C2020&LH_ItemCondition=3000%7C1000%7C2500&LH_Sold=1&LH_PrefLoc=1\"\n",
    "browser.visit(url)\n",
    "\n",
    "# Parse the HTML\n",
    "html = browser.html\n",
    "mySoup = soup(html, 'html.parser')"
   ]
  },
  {
   "cell_type": "code",
   "execution_count": null,
   "metadata": {},
   "outputs": [],
   "source": [
    "elements = mySoup.find_all(\"li\", class_=\"s-item\")\n",
    "pprint(elements)"
   ]
  },
  {
   "cell_type": "code",
   "execution_count": null,
   "metadata": {},
   "outputs": [],
   "source": [
    "total_results = mySoup.find(\"h2\", class_=\"srp-controls__count-heading\")\n",
    "total_results_text = total_results.text\n",
    "total_results_text = total_results_text[0:5]\n",
    "total_results_text = total_results_text.replace(',', '')\n",
    "total_results_int = int(total_results_text)\n",
    "\n",
    "print(total_results_int)"
   ]
  },
  {
   "cell_type": "code",
   "execution_count": null,
   "metadata": {},
   "outputs": [],
   "source": [
    "def scrape_page():\n",
    "    my_list = []\n",
    "    \n",
    "    html = browser.html\n",
    "    page = soup(html, 'html.parser')\n",
    "    \n",
    "    list_elements = page.find_all(\"li\", class_=\"s-item\")\n",
    "    \n",
    "    for element in list_elements:\n",
    "        title = element.find(class_=\"s-item__title\")\n",
    "        price = element.find(class_=\"s-item__price\")\n",
    "        sold_date = element.find(class_=\"s-item__sponsor\")\n",
    "        item_url = element.find(\"a\")\n",
    "        \n",
    "        dict = {\n",
    "            \"title\" : title.text,\n",
    "            \"price\" : price.text,\n",
    "            \"sold_date\" : sold_date.text,\n",
    "            \"item_url\" : item_url['href']\n",
    "        }\n",
    "        \n",
    "        my_list.append(dict)\n",
    "    \n",
    "    \n",
    "    return my_list"
   ]
  },
  {
   "attachments": {},
   "cell_type": "markdown",
   "metadata": {},
   "source": [
    "# Scraping Loop"
   ]
  },
  {
   "cell_type": "code",
   "execution_count": null,
   "metadata": {},
   "outputs": [],
   "source": [
    "vehicles = []\n",
    "page_num = 1\n",
    "\n",
    "# for _ in range(5):\n",
    "while len(vehicles) <= total_results_int:\n",
    "    page_url = f\"https://www.ebay.com/b/Cars-Trucks/6001?LH_ItemCondition=3000%7C1000%7C2500&LH_PrefLoc=1&LH_Sold=1&Model%2520Year=2010%7C2011%7C2012%7C2013%7C2014%7C2015%7C2016%7C2017%7C2018%7C2019%7C2020&mag=1&rt=nc&_fsrp=0&_pgn={page_num}&_sacat=6001\"\n",
    "    browser.visit(page_url)\n",
    "    \n",
    "    vehicles.extend(scrape_page())\n",
    "    \n",
    "    page_num += 1\n",
    "    \n",
    "    time.sleep(8)\n",
    "    print(len(vehicles))\n",
    "    \n",
    "pprint(vehicles)\n",
    "print(len(vehicles))"
   ]
  },
  {
   "cell_type": "code",
   "execution_count": null,
   "metadata": {},
   "outputs": [],
   "source": [
    "copy_so_I_dont_lose_it = vehicles\n",
    "\n",
    "pprint(copy_so_I_dont_lose_it)"
   ]
  },
  {
   "cell_type": "code",
   "execution_count": null,
   "metadata": {},
   "outputs": [],
   "source": [
    "import json\n",
    "\n",
    "json_object = json.dumps(vehicles, indent = 4)\n",
    "\n",
    "with open('data/vehicles.json', 'w') as outfile:\n",
    "    json.dump(vehicles, outfile)"
   ]
  },
  {
   "cell_type": "code",
   "execution_count": null,
   "metadata": {},
   "outputs": [],
   "source": [
    "import json\n",
    "\n",
    "f = open('data/vehicles.json')\n",
    "\n",
    "data = json.load(f)\n",
    "\n",
    "pprint(data[0])\n",
    "\n",
    "f.close()\n"
   ]
  },
  {
   "cell_type": "code",
   "execution_count": null,
   "metadata": {},
   "outputs": [],
   "source": [
    "browser.quit()"
   ]
  },
  {
   "cell_type": "code",
   "execution_count": null,
   "metadata": {},
   "outputs": [],
   "source": []
  }
 ],
 "metadata": {
  "kernelspec": {
   "display_name": "Python 3",
   "language": "python",
   "name": "python3"
  },
  "language_info": {
   "codemirror_mode": {
    "name": "ipython",
    "version": 3
   },
   "file_extension": ".py",
   "mimetype": "text/x-python",
   "name": "python",
   "nbconvert_exporter": "python",
   "pygments_lexer": "ipython3",
   "version": "3.11.2"
  },
  "orig_nbformat": 4
 },
 "nbformat": 4,
 "nbformat_minor": 2
}
