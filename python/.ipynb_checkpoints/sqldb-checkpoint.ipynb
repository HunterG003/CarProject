{
 "cells": [
  {
   "cell_type": "code",
   "execution_count": 5,
   "metadata": {},
   "outputs": [
    {
     "ename": "SyntaxError",
     "evalue": "invalid syntax (3710403308.py, line 14)",
     "output_type": "error",
     "traceback": [
      "\u001b[1;36m  File \u001b[1;32m\"C:\\Users\\15128\\AppData\\Local\\Temp\\ipykernel_22004\\3710403308.py\"\u001b[1;36m, line \u001b[1;32m14\u001b[0m\n\u001b[1;33m    CREATE TABLE IF NOT EXISTS Cars (\u001b[0m\n\u001b[1;37m           ^\u001b[0m\n\u001b[1;31mSyntaxError\u001b[0m\u001b[1;31m:\u001b[0m invalid syntax\n"
     ]
    }
   ],
   "source": [
    "import sqlite3\n",
    "import json\n",
    "\n",
    "# Load the JSON data\n",
    "with open('vehicles.json') as f:\n",
    "    json_data = json.load(f)\n",
    "\n",
    "# Connect to the SQLite database\n",
    "conn = sqlite3.connect('cars.db')\n",
    "cursor = conn.cursor()\n",
    "\n",
    "# Create a table\n",
    "cursor.execute(\n",
    "    CREATE TABLE IF NOT EXISTS Cars ( \n",
    "        Condition VARCHAR(10),\n",
    "        Year INT,\n",
    "        Mileage INT,\n",
    "        Interior_Color VARCHAR(10),\n",
    "        Transmission VARCHAR(20),\n",
    "        Fuel_Consumption INT,\n",
    "        Fuel_Type VARCHAR(10),\n",
    "        Horse_Power INT,\n",
    "        Engine_Size INT,\n",
    "        Exterior_Color VARCHAR(10),\n",
    "        Number_of_doors INT,\n",
    "        Engine VARCHAR(10),\n",
    "        Body_Type VARCHAR(10),\n",
    "        Number_of_Cylinders INT,\n",
    "        Make VARCHAR(20),\n",
    "        Drive_Type VARCHAR(10),\n",
    "        Model VARCHAR(20),\n",
    "        Country_of_Manufacture VARCHAR(50),\n",
    "        Vehicle_Title VARCHAR(30)\n",
    "    )\n",
    ");\n",
    "\n",
    "\n",
    "\n",
    "\n",
    "\n",
    "\n",
    "# Insert data into the table\n",
    "for item in json_data:\n",
    "    cursor.execute('''INSERT INTO my_table (name, age, email)\n",
    "                      VALUES (?, ?, ?)''',\n",
    "                   (item['name'], item['age'], item['email']))\n",
    "\n",
    "# Commit the changes and close the connection\n",
    "conn.commit()\n",
    "conn.close()\n",
    "\n",
    "''')\n",
    "# Insert JSON data into the table\n",
    "for item in json_data:\n",
    "    cursor.execute('''\n",
    "    # INSERT INTO Cars(Condition, Year, Mileage, Interior_Color, Transmission, Fuel_Consumption, Fuel_Type, Horse_Power, Engine_Size,\n",
    "    # Exterior_Color, Number_of_doors, Engine, Body_Type, Number_of_Cylinders, Make, Drive_Type, Model, Country_of_Manufacture,\n",
    "    # Vehicle_Title, Price, Sold_Date)\n",
    "    # VALUES(?, ?, ?, ?)\n",
    "\n",
    "\n",
    "    ''', (item['title'], item['price'], item['sold_date'], item['item_url']))\n",
    "# Commit the transaction and close the connection\n",
    "conn.commit()\n",
    "conn.close()\n"
   ]
  },
  {
   "cell_type": "code",
   "execution_count": null,
   "metadata": {},
   "outputs": [],
   "source": []
  }
 ],
 "metadata": {
  "kernelspec": {
   "display_name": "Python 3 (ipykernel)",
   "language": "python",
   "name": "python3"
  },
  "language_info": {
   "codemirror_mode": {
    "name": "ipython",
    "version": 3
   },
   "file_extension": ".py",
   "mimetype": "text/x-python",
   "name": "python",
   "nbconvert_exporter": "python",
   "pygments_lexer": "ipython3",
   "version": "3.9.13"
  }
 },
 "nbformat": 4,
 "nbformat_minor": 2
}
