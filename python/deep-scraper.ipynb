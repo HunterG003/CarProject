{
 "cells": [
  {
   "cell_type": "code",
   "execution_count": 1,
   "metadata": {},
   "outputs": [
    {
     "name": "stdout",
     "output_type": "stream",
     "text": [
      "{'item_url': 'https://www.ebay.com/itm/185913370660?hash=item2b494ce824:g:UGQAAOSwGn5j~pIv',\n",
      " 'price': '$1.30',\n",
      " 'sold_date': 'SOLD  May 25, 2023',\n",
      " 'title': '2019 Cadillac CT6 PREMIUM LUXURY'}\n"
     ]
    }
   ],
   "source": [
    "# Import all modules needed and load the json file\n",
    "import json\n",
    "from bs4 import BeautifulSoup as soup\n",
    "from splinter import Browser\n",
    "from pprint import pprint\n",
    "import time\n",
    "\n",
    "f = open('data/vehicles.json')\n",
    "\n",
    "data = json.load(f)\n",
    "\n",
    "pprint(data[0])\n",
    "\n",
    "f.close()"
   ]
  },
  {
   "cell_type": "code",
   "execution_count": 2,
   "metadata": {},
   "outputs": [],
   "source": [
    "browser=Browser('chrome')"
   ]
  },
  {
   "attachments": {},
   "cell_type": "markdown",
   "metadata": {},
   "source": [
    "## Method to scrape page that browser is currently on"
   ]
  },
  {
   "cell_type": "code",
   "execution_count": 3,
   "metadata": {},
   "outputs": [],
   "source": [
    "def ScrapePage(page):\n",
    "    labels = page.find_all(class_=\"ux-labels-values__labels-content\")\n",
    "    values = page.find_all(class_=\"ux-labels-values__values-content\")\n",
    "\n",
    "    item = {}\n",
    "\n",
    "    condition = year = mileage = interior_color = transmission = fuel_consumption_rate = fuel_type = horse_power = \"\"\n",
    "    engine_size = exterior_color = number_of_doors = engine = body_type = number_of_cylinders = make = drive_type = \"\"\n",
    "    model = country_of_manufacture = vehicle_title = \"\"\n",
    "\n",
    "    for i, element in enumerate(labels):\n",
    "        \n",
    "        match element.text:\n",
    "            case \"Condition\":\n",
    "                condition = values[i].text\n",
    "            case \"Year\":\n",
    "                year = values[i].text\n",
    "            case \"Mileage\":\n",
    "                mileage = values[i].text\n",
    "            case \"Interior Color\":\n",
    "                interior_color = values[i].text\n",
    "            case \"Transmission\":\n",
    "                transmission = values[i].text\n",
    "            case \"Fuel Consumption Rate\":\n",
    "                fuel_consumption_rate = values[i].text\n",
    "            case \"Fuel Type\":\n",
    "                fuel_type = values[i].text\n",
    "            case \"Horse Power\":\n",
    "                horse_power = values[i].text\n",
    "            case \"Engine Size\":\n",
    "                engine_size = values[i].text\n",
    "            case \"Exterior Color\":\n",
    "                exterior_color = values[i].text\n",
    "            case \"Number of Doors\":\n",
    "                number_of_doors = values[i].text\n",
    "            case \"Engine\":\n",
    "                engine = values[i].text\n",
    "            case \"Body Type\":\n",
    "                body_type = values[i].text\n",
    "            case \"Number of Cylinders\":\n",
    "                number_of_cylinders = values[i].text\n",
    "            case \"Make\":\n",
    "                make = values[i].text\n",
    "            case \"Drive Type\":\n",
    "                drive_type = values[i].text\n",
    "            case \"Model\":\n",
    "                model = values[i].text\n",
    "            case \"Country/Region of Manufacture\":\n",
    "                country_of_manufacture = values[i].text\n",
    "            case \"Vehicle Title\":\n",
    "                vehicle_title = values[i].text\n",
    "\n",
    "    item = {\n",
    "        \"condition\" : condition,\n",
    "        \"year\" : year,\n",
    "        \"mileage\" : mileage,\n",
    "        \"interior_color\" : interior_color,\n",
    "        \"transmission\" : transmission,\n",
    "        \"fuel_consumption_rate\" : fuel_consumption_rate,\n",
    "        \"fuel_type\" : fuel_type,\n",
    "        \"horse_power\" : horse_power,\n",
    "        \"engine_size\" : engine_size,\n",
    "        \"exterior_color\" : exterior_color,\n",
    "        \"number_of_doors\" : number_of_doors,\n",
    "        \"engine\" : engine,\n",
    "        \"body_type\" : body_type,\n",
    "        \"number_of_cylinders\" : number_of_cylinders,\n",
    "        \"make\" : make,\n",
    "        \"drive_type\" : drive_type,\n",
    "        \"model\" : model,\n",
    "        \"country_of_manufacture\" : country_of_manufacture,\n",
    "        \"vehicle_title\" : vehicle_title\n",
    "    }        \n",
    "    return item"
   ]
  },
  {
   "attachments": {},
   "cell_type": "markdown",
   "metadata": {},
   "source": [
    "# Scrape all urls that were imported from the json file"
   ]
  },
  {
   "cell_type": "code",
   "execution_count": 10,
   "metadata": {},
   "outputs": [
    {
     "name": "stdout",
     "output_type": "stream",
     "text": [
      "Item 4750\n",
      "Item 4751\n",
      "Item 4752\n",
      "Item 4753\n",
      "Item 4754\n",
      "Item 4755\n",
      "Item 4756\n",
      "Item 4757\n",
      "Item 4758\n",
      "Item 4759\n",
      "Item 4760\n",
      "Item 4761\n",
      "Item 4762\n",
      "Item 4763\n",
      "Item 4764\n",
      "Item 4765\n",
      "Item 4766\n",
      "Item 4767\n",
      "Item 4768\n",
      "Item 4769\n",
      "Item 4770\n",
      "Item 4771\n",
      "Item 4772\n",
      "Item 4773\n",
      "Item 4774\n",
      "Item 4775\n",
      "Item 4776\n"
     ]
    }
   ],
   "source": [
    "checkpoint = 250\n",
    "current = 4750\n",
    "iterations = int(current / checkpoint) + 1\n",
    "\n",
    "while checkpoint * (iterations - 1) <= len(data):\n",
    "    myItems = []\n",
    "\n",
    "    for i in range(current, checkpoint * iterations):\n",
    "        if i > len(data) - 1:\n",
    "            with open(f'data/deep data/{current}-{i}.json', 'w') as outfile:\n",
    "                json.dump(data, outfile, indent=4)\n",
    "                break\n",
    "            \n",
    "        browser.visit(data[i]['item_url'])\n",
    "        \n",
    "        html = browser.html\n",
    "        mySoup = soup(html, 'html.parser')\n",
    "        \n",
    "        myItems.append(ScrapePage(mySoup))\n",
    "        \n",
    "        print(f'Item {i}')\n",
    "        time.sleep(2)\n",
    "\n",
    "    with open(f'data/deep data/{current}-{current + 250}.json', 'w') as outfile:\n",
    "        json.dump(myItems, outfile, indent=4)\n",
    "        \n",
    "    current += 250\n",
    "    iterations += 1\n",
    "\n",
    "    \n",
    "    "
   ]
  },
  {
   "cell_type": "code",
   "execution_count": 21,
   "metadata": {},
   "outputs": [
    {
     "name": "stdout",
     "output_type": "stream",
     "text": [
      "4750\n"
     ]
    }
   ],
   "source": [
    "import os\n",
    "\n",
    "directory = os.fsencode(\"./data/deep data/\")\n",
    "\n",
    "data_array = []\n",
    "\n",
    "for file in os.listdir(directory):\n",
    "    filename = os.fsdecode(file)\n",
    "    if filename.endswith(\".json\"):\n",
    "        f = open(f'./data/deep data/{filename}')\n",
    "        data_array.append(json.load(f))\n",
    "        \n",
    "expanded_data_array = []       \n",
    "for arr in data_array:\n",
    "    expanded_data_array.extend(arr)\n",
    "    \n",
    "print(len(expanded_data_array))\n",
    "\n",
    "with open(f'data/deep data/compiled/compiled-data.json', 'w') as outfile:\n",
    "        json.dump(expanded_data_array, outfile, indent=4)"
   ]
  },
  {
   "cell_type": "code",
   "execution_count": 9,
   "metadata": {},
   "outputs": [
    {
     "ename": "KeyboardInterrupt",
     "evalue": "",
     "output_type": "error",
     "traceback": [
      "\u001b[0;31m---------------------------------------------------------------------------\u001b[0m",
      "\u001b[0;31mKeyboardInterrupt\u001b[0m                         Traceback (most recent call last)",
      "Cell \u001b[0;32mIn[9], line 1\u001b[0m\n\u001b[0;32m----> 1\u001b[0m browser\u001b[39m.\u001b[39;49mquit()\n",
      "File \u001b[0;32m/Library/Frameworks/Python.framework/Versions/3.11/lib/python3.11/site-packages/splinter/driver/webdriver/__init__.py:667\u001b[0m, in \u001b[0;36mBaseWebDriver.quit\u001b[0;34m(self)\u001b[0m\n\u001b[1;32m    665\u001b[0m \u001b[39mdef\u001b[39;00m \u001b[39mquit\u001b[39m(\u001b[39mself\u001b[39m):  \u001b[39m# NOQA: A003\u001b[39;00m\n\u001b[1;32m    666\u001b[0m     \u001b[39mtry\u001b[39;00m:\n\u001b[0;32m--> 667\u001b[0m         \u001b[39mself\u001b[39;49m\u001b[39m.\u001b[39;49mdriver\u001b[39m.\u001b[39;49mquit()\n\u001b[1;32m    668\u001b[0m     \u001b[39mexcept\u001b[39;00m WebDriverException:\n\u001b[1;32m    669\u001b[0m         \u001b[39mpass\u001b[39;00m\n",
      "File \u001b[0;32m/Library/Frameworks/Python.framework/Versions/3.11/lib/python3.11/site-packages/selenium/webdriver/chromium/webdriver.py:239\u001b[0m, in \u001b[0;36mChromiumDriver.quit\u001b[0;34m(self)\u001b[0m\n\u001b[1;32m    237\u001b[0m     \u001b[39mpass\u001b[39;00m\n\u001b[1;32m    238\u001b[0m \u001b[39mfinally\u001b[39;00m:\n\u001b[0;32m--> 239\u001b[0m     \u001b[39mself\u001b[39;49m\u001b[39m.\u001b[39;49mservice\u001b[39m.\u001b[39;49mstop()\n",
      "File \u001b[0;32m/Library/Frameworks/Python.framework/Versions/3.11/lib/python3.11/site-packages/selenium/webdriver/common/service.py:147\u001b[0m, in \u001b[0;36mService.stop\u001b[0;34m(self)\u001b[0m\n\u001b[1;32m    144\u001b[0m     \u001b[39mreturn\u001b[39;00m\n\u001b[1;32m    146\u001b[0m \u001b[39mtry\u001b[39;00m:\n\u001b[0;32m--> 147\u001b[0m     \u001b[39mself\u001b[39;49m\u001b[39m.\u001b[39;49msend_remote_shutdown_command()\n\u001b[1;32m    148\u001b[0m \u001b[39mexcept\u001b[39;00m \u001b[39mTypeError\u001b[39;00m:\n\u001b[1;32m    149\u001b[0m     \u001b[39mpass\u001b[39;00m\n",
      "File \u001b[0;32m/Library/Frameworks/Python.framework/Versions/3.11/lib/python3.11/site-packages/selenium/webdriver/common/service.py:123\u001b[0m, in \u001b[0;36mService.send_remote_shutdown_command\u001b[0;34m(self)\u001b[0m\n\u001b[1;32m    120\u001b[0m URLError \u001b[39m=\u001b[39m url_request\u001b[39m.\u001b[39mURLError\n\u001b[1;32m    122\u001b[0m \u001b[39mtry\u001b[39;00m:\n\u001b[0;32m--> 123\u001b[0m     url_request\u001b[39m.\u001b[39;49murlopen(\u001b[39m\"\u001b[39;49m\u001b[39m%s\u001b[39;49;00m\u001b[39m/shutdown\u001b[39;49m\u001b[39m\"\u001b[39;49m \u001b[39m%\u001b[39;49m \u001b[39mself\u001b[39;49m\u001b[39m.\u001b[39;49mservice_url)\n\u001b[1;32m    124\u001b[0m \u001b[39mexcept\u001b[39;00m URLError:\n\u001b[1;32m    125\u001b[0m     \u001b[39mreturn\u001b[39;00m\n",
      "File \u001b[0;32m/Library/Frameworks/Python.framework/Versions/3.11/lib/python3.11/urllib/request.py:216\u001b[0m, in \u001b[0;36murlopen\u001b[0;34m(url, data, timeout, cafile, capath, cadefault, context)\u001b[0m\n\u001b[1;32m    214\u001b[0m \u001b[39melse\u001b[39;00m:\n\u001b[1;32m    215\u001b[0m     opener \u001b[39m=\u001b[39m _opener\n\u001b[0;32m--> 216\u001b[0m \u001b[39mreturn\u001b[39;00m opener\u001b[39m.\u001b[39;49mopen(url, data, timeout)\n",
      "File \u001b[0;32m/Library/Frameworks/Python.framework/Versions/3.11/lib/python3.11/urllib/request.py:519\u001b[0m, in \u001b[0;36mOpenerDirector.open\u001b[0;34m(self, fullurl, data, timeout)\u001b[0m\n\u001b[1;32m    516\u001b[0m     req \u001b[39m=\u001b[39m meth(req)\n\u001b[1;32m    518\u001b[0m sys\u001b[39m.\u001b[39maudit(\u001b[39m'\u001b[39m\u001b[39murllib.Request\u001b[39m\u001b[39m'\u001b[39m, req\u001b[39m.\u001b[39mfull_url, req\u001b[39m.\u001b[39mdata, req\u001b[39m.\u001b[39mheaders, req\u001b[39m.\u001b[39mget_method())\n\u001b[0;32m--> 519\u001b[0m response \u001b[39m=\u001b[39m \u001b[39mself\u001b[39;49m\u001b[39m.\u001b[39;49m_open(req, data)\n\u001b[1;32m    521\u001b[0m \u001b[39m# post-process response\u001b[39;00m\n\u001b[1;32m    522\u001b[0m meth_name \u001b[39m=\u001b[39m protocol\u001b[39m+\u001b[39m\u001b[39m\"\u001b[39m\u001b[39m_response\u001b[39m\u001b[39m\"\u001b[39m\n",
      "File \u001b[0;32m/Library/Frameworks/Python.framework/Versions/3.11/lib/python3.11/urllib/request.py:536\u001b[0m, in \u001b[0;36mOpenerDirector._open\u001b[0;34m(self, req, data)\u001b[0m\n\u001b[1;32m    533\u001b[0m     \u001b[39mreturn\u001b[39;00m result\n\u001b[1;32m    535\u001b[0m protocol \u001b[39m=\u001b[39m req\u001b[39m.\u001b[39mtype\n\u001b[0;32m--> 536\u001b[0m result \u001b[39m=\u001b[39m \u001b[39mself\u001b[39;49m\u001b[39m.\u001b[39;49m_call_chain(\u001b[39mself\u001b[39;49m\u001b[39m.\u001b[39;49mhandle_open, protocol, protocol \u001b[39m+\u001b[39;49m\n\u001b[1;32m    537\u001b[0m                           \u001b[39m'\u001b[39;49m\u001b[39m_open\u001b[39;49m\u001b[39m'\u001b[39;49m, req)\n\u001b[1;32m    538\u001b[0m \u001b[39mif\u001b[39;00m result:\n\u001b[1;32m    539\u001b[0m     \u001b[39mreturn\u001b[39;00m result\n",
      "File \u001b[0;32m/Library/Frameworks/Python.framework/Versions/3.11/lib/python3.11/urllib/request.py:496\u001b[0m, in \u001b[0;36mOpenerDirector._call_chain\u001b[0;34m(self, chain, kind, meth_name, *args)\u001b[0m\n\u001b[1;32m    494\u001b[0m \u001b[39mfor\u001b[39;00m handler \u001b[39min\u001b[39;00m handlers:\n\u001b[1;32m    495\u001b[0m     func \u001b[39m=\u001b[39m \u001b[39mgetattr\u001b[39m(handler, meth_name)\n\u001b[0;32m--> 496\u001b[0m     result \u001b[39m=\u001b[39m func(\u001b[39m*\u001b[39;49margs)\n\u001b[1;32m    497\u001b[0m     \u001b[39mif\u001b[39;00m result \u001b[39mis\u001b[39;00m \u001b[39mnot\u001b[39;00m \u001b[39mNone\u001b[39;00m:\n\u001b[1;32m    498\u001b[0m         \u001b[39mreturn\u001b[39;00m result\n",
      "File \u001b[0;32m/Library/Frameworks/Python.framework/Versions/3.11/lib/python3.11/urllib/request.py:1377\u001b[0m, in \u001b[0;36mHTTPHandler.http_open\u001b[0;34m(self, req)\u001b[0m\n\u001b[1;32m   1376\u001b[0m \u001b[39mdef\u001b[39;00m \u001b[39mhttp_open\u001b[39m(\u001b[39mself\u001b[39m, req):\n\u001b[0;32m-> 1377\u001b[0m     \u001b[39mreturn\u001b[39;00m \u001b[39mself\u001b[39;49m\u001b[39m.\u001b[39;49mdo_open(http\u001b[39m.\u001b[39;49mclient\u001b[39m.\u001b[39;49mHTTPConnection, req)\n",
      "File \u001b[0;32m/Library/Frameworks/Python.framework/Versions/3.11/lib/python3.11/urllib/request.py:1352\u001b[0m, in \u001b[0;36mAbstractHTTPHandler.do_open\u001b[0;34m(self, http_class, req, **http_conn_args)\u001b[0m\n\u001b[1;32m   1350\u001b[0m     \u001b[39mexcept\u001b[39;00m \u001b[39mOSError\u001b[39;00m \u001b[39mas\u001b[39;00m err: \u001b[39m# timeout error\u001b[39;00m\n\u001b[1;32m   1351\u001b[0m         \u001b[39mraise\u001b[39;00m URLError(err)\n\u001b[0;32m-> 1352\u001b[0m     r \u001b[39m=\u001b[39m h\u001b[39m.\u001b[39;49mgetresponse()\n\u001b[1;32m   1353\u001b[0m \u001b[39mexcept\u001b[39;00m:\n\u001b[1;32m   1354\u001b[0m     h\u001b[39m.\u001b[39mclose()\n",
      "File \u001b[0;32m/Library/Frameworks/Python.framework/Versions/3.11/lib/python3.11/http/client.py:1374\u001b[0m, in \u001b[0;36mHTTPConnection.getresponse\u001b[0;34m(self)\u001b[0m\n\u001b[1;32m   1372\u001b[0m \u001b[39mtry\u001b[39;00m:\n\u001b[1;32m   1373\u001b[0m     \u001b[39mtry\u001b[39;00m:\n\u001b[0;32m-> 1374\u001b[0m         response\u001b[39m.\u001b[39;49mbegin()\n\u001b[1;32m   1375\u001b[0m     \u001b[39mexcept\u001b[39;00m \u001b[39mConnectionError\u001b[39;00m:\n\u001b[1;32m   1376\u001b[0m         \u001b[39mself\u001b[39m\u001b[39m.\u001b[39mclose()\n",
      "File \u001b[0;32m/Library/Frameworks/Python.framework/Versions/3.11/lib/python3.11/http/client.py:318\u001b[0m, in \u001b[0;36mHTTPResponse.begin\u001b[0;34m(self)\u001b[0m\n\u001b[1;32m    316\u001b[0m \u001b[39m# read until we get a non-100 response\u001b[39;00m\n\u001b[1;32m    317\u001b[0m \u001b[39mwhile\u001b[39;00m \u001b[39mTrue\u001b[39;00m:\n\u001b[0;32m--> 318\u001b[0m     version, status, reason \u001b[39m=\u001b[39m \u001b[39mself\u001b[39;49m\u001b[39m.\u001b[39;49m_read_status()\n\u001b[1;32m    319\u001b[0m     \u001b[39mif\u001b[39;00m status \u001b[39m!=\u001b[39m CONTINUE:\n\u001b[1;32m    320\u001b[0m         \u001b[39mbreak\u001b[39;00m\n",
      "File \u001b[0;32m/Library/Frameworks/Python.framework/Versions/3.11/lib/python3.11/http/client.py:279\u001b[0m, in \u001b[0;36mHTTPResponse._read_status\u001b[0;34m(self)\u001b[0m\n\u001b[1;32m    278\u001b[0m \u001b[39mdef\u001b[39;00m \u001b[39m_read_status\u001b[39m(\u001b[39mself\u001b[39m):\n\u001b[0;32m--> 279\u001b[0m     line \u001b[39m=\u001b[39m \u001b[39mstr\u001b[39m(\u001b[39mself\u001b[39m\u001b[39m.\u001b[39mfp\u001b[39m.\u001b[39mreadline(_MAXLINE \u001b[39m+\u001b[39m \u001b[39m1\u001b[39m), \u001b[39m\"\u001b[39m\u001b[39miso-8859-1\u001b[39m\u001b[39m\"\u001b[39m)\n\u001b[1;32m    280\u001b[0m     \u001b[39mif\u001b[39;00m \u001b[39mlen\u001b[39m(line) \u001b[39m>\u001b[39m _MAXLINE:\n\u001b[1;32m    281\u001b[0m         \u001b[39mraise\u001b[39;00m LineTooLong(\u001b[39m\"\u001b[39m\u001b[39mstatus line\u001b[39m\u001b[39m\"\u001b[39m)\n",
      "File \u001b[0;32m/Library/Frameworks/Python.framework/Versions/3.11/lib/python3.11/socket.py:706\u001b[0m, in \u001b[0;36mSocketIO.readinto\u001b[0;34m(self, b)\u001b[0m\n\u001b[1;32m    704\u001b[0m \u001b[39mwhile\u001b[39;00m \u001b[39mTrue\u001b[39;00m:\n\u001b[1;32m    705\u001b[0m     \u001b[39mtry\u001b[39;00m:\n\u001b[0;32m--> 706\u001b[0m         \u001b[39mreturn\u001b[39;00m \u001b[39mself\u001b[39;49m\u001b[39m.\u001b[39;49m_sock\u001b[39m.\u001b[39;49mrecv_into(b)\n\u001b[1;32m    707\u001b[0m     \u001b[39mexcept\u001b[39;00m timeout:\n\u001b[1;32m    708\u001b[0m         \u001b[39mself\u001b[39m\u001b[39m.\u001b[39m_timeout_occurred \u001b[39m=\u001b[39m \u001b[39mTrue\u001b[39;00m\n",
      "\u001b[0;31mKeyboardInterrupt\u001b[0m: "
     ]
    }
   ],
   "source": [
    "browser.quit()"
   ]
  },
  {
   "cell_type": "code",
   "execution_count": null,
   "metadata": {},
   "outputs": [],
   "source": []
  }
 ],
 "metadata": {
  "kernelspec": {
   "display_name": "Python 3",
   "language": "python",
   "name": "python3"
  },
  "language_info": {
   "codemirror_mode": {
    "name": "ipython",
    "version": 3
   },
   "file_extension": ".py",
   "mimetype": "text/x-python",
   "name": "python",
   "nbconvert_exporter": "python",
   "pygments_lexer": "ipython3",
   "version": "3.11.2"
  },
  "orig_nbformat": 4
 },
 "nbformat": 4,
 "nbformat_minor": 2
}
