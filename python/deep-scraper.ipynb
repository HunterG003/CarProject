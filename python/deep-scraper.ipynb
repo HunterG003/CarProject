{
 "cells": [
  {
   "cell_type": "code",
   "execution_count": null,
   "metadata": {},
   "outputs": [],
   "source": [
    "# Import all modules needed and load the json file\n",
    "import json\n",
    "from bs4 import BeautifulSoup as soup\n",
    "from splinter import Browser\n",
    "from pprint import pprint\n",
    "import time\n",
    "\n",
    "f = open('data/vehicles.json')\n",
    "\n",
    "data = json.load(f)\n",
    "\n",
    "pprint(data[0])\n",
    "\n",
    "f.close()"
   ]
  },
  {
   "cell_type": "code",
   "execution_count": null,
   "metadata": {},
   "outputs": [],
   "source": [
    "browser=Browser('chrome')"
   ]
  },
  {
   "attachments": {},
   "cell_type": "markdown",
   "metadata": {},
   "source": [
    "## Method to scrape page that browser is currently on"
   ]
  },
  {
   "cell_type": "code",
   "execution_count": null,
   "metadata": {},
   "outputs": [],
   "source": [
    "def ScrapePage(page):\n",
    "    labels = page.find_all(class_=\"ux-labels-values__labels-content\")\n",
    "    values = page.find_all(class_=\"ux-labels-values__values-content\")\n",
    "\n",
    "    item = {}\n",
    "\n",
    "    condition = year = mileage = interior_color = transmission = fuel_consumption_rate = fuel_type = horse_power = \"\"\n",
    "    engine_size = exterior_color = number_of_doors = engine = body_type = number_of_cylinders = make = drive_type = \"\"\n",
    "    model = country_of_manufacture = vehicle_title = \"\"\n",
    "\n",
    "    for i, element in enumerate(labels):\n",
    "        \n",
    "        match element.text:\n",
    "            case \"Condition\":\n",
    "                condition = values[i].text\n",
    "            case \"Year\":\n",
    "                year = values[i].text\n",
    "            case \"Mileage\":\n",
    "                mileage = values[i].text\n",
    "            case \"Interior Color\":\n",
    "                interior_color = values[i].text\n",
    "            case \"Transmission\":\n",
    "                transmission = values[i].text\n",
    "            case \"Fuel Consumption Rate\":\n",
    "                fuel_consumption_rate = values[i].text\n",
    "            case \"Fuel Type\":\n",
    "                fuel_type = values[i].text\n",
    "            case \"Horse Power\":\n",
    "                horse_power = values[i].text\n",
    "            case \"Engine Size\":\n",
    "                engine_size = values[i].text\n",
    "            case \"Exterior Color\":\n",
    "                exterior_color = values[i].text\n",
    "            case \"Number of Doors\":\n",
    "                number_of_doors = values[i].text\n",
    "            case \"Engine\":\n",
    "                engine = values[i].text\n",
    "            case \"Body Type\":\n",
    "                body_type = values[i].text\n",
    "            case \"Number of Cylinders\":\n",
    "                number_of_cylinders = values[i].text\n",
    "            case \"Make\":\n",
    "                make = values[i].text\n",
    "            case \"Drive Type\":\n",
    "                drive_type = values[i].text\n",
    "            case \"Model\":\n",
    "                model = values[i].text\n",
    "            case \"Country/Region of Manufacture\":\n",
    "                country_of_manufacture = values[i].text\n",
    "            case \"Vehicle Title\":\n",
    "                vehicle_title = values[i].text\n",
    "\n",
    "    item = {\n",
    "        \"condition\" : condition,\n",
    "        \"year\" : year,\n",
    "        \"mileage\" : mileage,\n",
    "        \"interior_color\" : interior_color,\n",
    "        \"transmission\" : transmission,\n",
    "        \"fuel_consumption_rate\" : fuel_consumption_rate,\n",
    "        \"fuel_type\" : fuel_type,\n",
    "        \"horse_power\" : horse_power,\n",
    "        \"engine_size\" : engine_size,\n",
    "        \"exterior_color\" : exterior_color,\n",
    "        \"number_of_doors\" : number_of_doors,\n",
    "        \"engine\" : engine,\n",
    "        \"body_type\" : body_type,\n",
    "        \"number_of_cylinders\" : number_of_cylinders,\n",
    "        \"make\" : make,\n",
    "        \"drive_type\" : drive_type,\n",
    "        \"model\" : model,\n",
    "        \"country_of_manufacture\" : country_of_manufacture,\n",
    "        \"vehicle_title\" : vehicle_title\n",
    "    }        \n",
    "    return item"
   ]
  },
  {
   "attachments": {},
   "cell_type": "markdown",
   "metadata": {},
   "source": [
    "# Scrape all urls that were imported from the json file"
   ]
  },
  {
   "cell_type": "code",
   "execution_count": null,
   "metadata": {},
   "outputs": [],
   "source": [
    "myItems = []\n",
    "\n",
    "for l in data:\n",
    "    browser.visit(l['item_url'])\n",
    "    \n",
    "    html = browser.html\n",
    "    mySoup = soup(html, 'html.parser')\n",
    "    \n",
    "    myItems.append(ScrapePage(mySoup))\n",
    "    \n",
    "    time.sleep(5)\n",
    "    \n",
    "pprint(myItems)\n",
    "    \n",
    "    "
   ]
  },
  {
   "cell_type": "code",
   "execution_count": 34,
   "metadata": {},
   "outputs": [],
   "source": [
    "browser.quit()"
   ]
  },
  {
   "cell_type": "code",
   "execution_count": null,
   "metadata": {},
   "outputs": [],
   "source": []
  }
 ],
 "metadata": {
  "kernelspec": {
   "display_name": "Python 3",
   "language": "python",
   "name": "python3"
  },
  "language_info": {
   "codemirror_mode": {
    "name": "ipython",
    "version": 3
   },
   "file_extension": ".py",
   "mimetype": "text/x-python",
   "name": "python",
   "nbconvert_exporter": "python",
   "pygments_lexer": "ipython3",
   "version": "3.11.2"
  },
  "orig_nbformat": 4
 },
 "nbformat": 4,
 "nbformat_minor": 2
}
