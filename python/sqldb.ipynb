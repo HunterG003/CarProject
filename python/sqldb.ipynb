{
 "cells": [
  {
   "cell_type": "code",
   "execution_count": 4,
   "metadata": {},
   "outputs": [
    {
     "ename": "SyntaxError",
     "evalue": "invalid syntax (2396017697.py, line 18)",
     "output_type": "error",
     "traceback": [
      "\u001b[1;36m  File \u001b[1;32m\"C:\\Users\\15128\\AppData\\Local\\Temp\\ipykernel_3568\\2396017697.py\"\u001b[1;36m, line \u001b[1;32m18\u001b[0m\n\u001b[1;33m    CREATE TABLE Cars(\u001b[0m\n\u001b[1;37m           ^\u001b[0m\n\u001b[1;31mSyntaxError\u001b[0m\u001b[1;31m:\u001b[0m invalid syntax\n"
     ]
    }
   ],
   "source": [
    "import sqlite3\n",
    "import json\n",
    "import csv\n",
    "# Load the JSON data.\n",
    "with open('vehicles.json') as f:\n",
    "    data = json.load(f)\n",
    "# Write the data to a CSV file.\n",
    "with open('vehicles.csv', 'w', newline='') as f:\n",
    "    writer = csv.DictWriter(f, fieldnames=data[0].keys())\n",
    "    writer.writeheader()\n",
    "    writer.writerows(data)\n",
    "# Your JSON data\n",
    "#json_data = ['data/vehicles.json'] \n",
    "# # Create SQLite database and table  \n",
    "conn = sqlite3.connect('cars.db')  # Creates a database named cars.db\n",
    "cursor = conn.cursor()\n",
    "cursor.execute(\n",
    "    CREATE TABLE Cars( \n",
    "        Condition VARCHAR(10),\n",
    "        Year INT,\n",
    "        Mileage INT,\n",
    "        Interior_Color VARCHAR(10),\n",
    "        Transmission VARCHAR(20),\n",
    "        Fuel_Consumption INT,\n",
    "        Fuel_Type VARCHAR(10),\n",
    "        Horse_Power INT,\n",
    "        Engine_Size INT,\n",
    "        Exterior_Color VARCHAR(10),\n",
    "        Number_of_doors INT,\n",
    "        Engine VARCHAR(10),\n",
    "        Body_Type VARCHAR(10),\n",
    "        Number_of_Cylinders INT,\n",
    "        Make VARCHAR(20),\n",
    "        Drive_Type VARCHAR(10),\n",
    "        Model VARCHAR(20),\n",
    "        Country_of_Manufacture VARCHAR(50),\n",
    "        Vehicle_Title VARCHAR(30),\n",
    "        )\n",
    "        )\n",
    "\n",
    "''')\n",
    "# Insert JSON data into the table\n",
    "for item in json_data:\n",
    "    cursor.execute('''\n",
    "    # INSERT INTO Cars(Condition, Year, Mileage, Interior_Color, Transmission, Fuel_Consumption, Fuel_Type, Horse_Power, Engine_Size,\n",
    "    # Exterior_Color, Number_of_doors, Engine, Body_Type, Number_of_Cylinders, Make, Drive_Type, Model, Country_of_Manufacture,\n",
    "    # Vehicle_Title, Price, Sold_Date)\n",
    "    # VALUES(?, ?, ?, ?)\n",
    "\n",
    "\n",
    "    ''', (item['title'], item['price'], item['sold_date'], item['item_url']))\n",
    "# Commit the transaction and close the connection\n",
    "conn.commit()\n",
    "conn.close()\n"
   ]
  }
 ],
 "metadata": {
  "kernelspec": {
   "display_name": "base",
   "language": "python",
   "name": "python3"
  },
  "language_info": {
   "codemirror_mode": {
    "name": "ipython",
    "version": 3
   },
   "file_extension": ".py",
   "mimetype": "text/x-python",
   "name": "python",
   "nbconvert_exporter": "python",
   "pygments_lexer": "ipython3",
   "version": "3.9.13"
  },
  "orig_nbformat": 4
 },
 "nbformat": 4,
 "nbformat_minor": 2
}
